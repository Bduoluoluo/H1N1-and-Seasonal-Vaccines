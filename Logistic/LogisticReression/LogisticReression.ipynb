{
 "cells": [
  {
   "cell_type": "code",
   "execution_count": 1,
   "metadata": {},
   "outputs": [],
   "source": [
    "import numpy as np\n",
    "import pandas as pd\n",
    "from sklearn.model_selection import train_test_split\n",
    "from sklearn.metrics import roc_auc_score\n",
    "\n",
    "class LogisticRegression:\n",
    "    def __init__ (self, mode=\"BGD\", max_iter=200, learning_rate=0.01, normalization=False):\n",
    "        self.mode = mode\n",
    "        self.max_iter = max_iter\n",
    "        self.learning_rate = learning_rate\n",
    "        self.normalization = normalization\n",
    "    \n",
    "    def sigmoid (self, x):\n",
    "        return 1 / (1 + np.exp(-x))\n",
    "\n",
    "    def dataMatrix (self, X):\n",
    "        data_mat = []\n",
    "        for d in X:\n",
    "            data_mat.append([1.0, *d])\n",
    "        return np.array(data_mat)\n",
    "\n",
    "    def gradient (self, x, y):\n",
    "        h = self.sigmoid(np.dot(x, self.weights))\n",
    "        error = h - y\n",
    "        grad = self.learning_rate / len(x) * error * np.transpose([x])\n",
    "        if (self.normalization is True):\n",
    "            d = self.learning_rate / len(x) * self.weights\n",
    "            d[0] = 0\n",
    "            grad += d\n",
    "        return grad\n",
    "\n",
    "    # 批量梯度下降\n",
    "    def BGD (self, X, y):\n",
    "        for iter in range(self.max_iter):\n",
    "            for x, v in zip(X, y):\n",
    "                self.weights -= self.gradient(x, v)\n",
    "    \n",
    "    # 随机梯度下降，每一轮迭代都随机选择下标\n",
    "    def SGD (self, X, y):\n",
    "        for iter in range(self.max_iter):\n",
    "            randIndex = int(np.random.uniform(0, len(X)))\n",
    "            x, v = X[randIndex], y[randIndex]\n",
    "            self.weights -= self.gradient(x, v)\n",
    "\n",
    "    def fit (self, X, y):\n",
    "        X = self.dataMatrix(X)\n",
    "        self.weights = np.ones((len(X[0]), 1))\n",
    "        if (self.mode == \"BGD\"):\n",
    "            self.BGD(X, y)\n",
    "        elif (self.mode == \"SGD\"):\n",
    "            self.SGD(X, y)\n",
    "    \n",
    "    def predict (self, X):\n",
    "        X = self.dataMatrix(X)\n",
    "        return self.sigmoid(X.dot(self.weights))\n"
   ]
  },
  {
   "cell_type": "code",
   "execution_count": 8,
   "metadata": {},
   "outputs": [],
   "source": [
    "train_data = pd.read_csv(\"./TrainData.csv\")\n",
    "\n",
    "X = train_data.drop(columns=[\"h1n1_vaccine\", \"seasonal_vaccine\"])\n",
    "y = train_data[[\"h1n1_vaccine\", \"seasonal_vaccine\"]]\n",
    "X, y = np.array(X), np.array(y)\n",
    "\n",
    "X_train, X_test, y_train, y_test = train_test_split(X, y, test_size=0.1)\n",
    "y1_train, y2_train = y_train[:, 0], y_train[:, 1]\n",
    "y1_test, y2_test = y_test[:, 0], y_test[:, 1]"
   ]
  },
  {
   "cell_type": "code",
   "execution_count": 3,
   "metadata": {},
   "outputs": [
    {
     "name": "stdout",
     "output_type": "stream",
     "text": [
      "BGD:\n",
      "h1n1_vaccine: 0.8218116045424405\n",
      "seasonal_vaccine: 0.8336868753295134\n",
      "SGD:\n",
      "h1n1_vaccine: 0.8130037014344107\n",
      "seasonal_vaccine: 0.8249697325333953\n"
     ]
    }
   ],
   "source": [
    "model_bgd_1 = LogisticRegression(mode=\"BGD\", max_iter=30)\n",
    "model_bgd_2 = LogisticRegression(mode=\"BGD\", max_iter=30)\n",
    "model_sgd_1 = LogisticRegression(mode=\"SGD\", max_iter=500000)\n",
    "model_sgd_2 = LogisticRegression(mode=\"SGD\", max_iter=500000)\n",
    "model_bgd_1.fit(X_train, y1_train)\n",
    "y1_bgd_pre = model_bgd_1.predict(X_test)\n",
    "model_bgd_2.fit(X_train, y2_train)\n",
    "y2_bgd_pre = model_bgd_2.predict(X_test)\n",
    "model_sgd_1.fit(X_train, y1_train)\n",
    "y1_sgd_pre = model_sgd_1.predict(X_test)\n",
    "model_sgd_2.fit(X_train, y2_train)\n",
    "y2_sgd_pre = model_sgd_2.predict(X_test)\n",
    "\n",
    "print(\"BGD:\")\n",
    "print(\"h1n1_vaccine:\", roc_auc_score(y1_test, y1_bgd_pre))\n",
    "print(\"seasonal_vaccine:\", roc_auc_score(y2_test, y2_bgd_pre))\n",
    "print(\"SGD:\")\n",
    "print(\"h1n1_vaccine:\", roc_auc_score(y1_test, y1_sgd_pre))\n",
    "print(\"seasonal_vaccine:\", roc_auc_score(y2_test, y2_sgd_pre))\n",
    "\n",
    "# 使用随机梯度下降后发现正确率有略微下降"
   ]
  },
  {
   "cell_type": "code",
   "execution_count": 4,
   "metadata": {},
   "outputs": [
    {
     "name": "stdout",
     "output_type": "stream",
     "text": [
      "BGD:\n",
      "h1n1_vaccine: 0.7090074512862492\n",
      "seasonal_vaccine: 0.7323300003822364\n",
      "SGD:\n",
      "h1n1_vaccine: 0.729467871162362\n",
      "seasonal_vaccine: 0.7664131165528577\n"
     ]
    }
   ],
   "source": [
    "model_bgd_n_1 = LogisticRegression(mode=\"BGD\", max_iter=30, normalization=True)\n",
    "model_bgd_n_2 = LogisticRegression(mode=\"BGD\", max_iter=30, normalization=True)\n",
    "model_sgd_n_1 = LogisticRegression(mode=\"SGD\", max_iter=500000, normalization=True)\n",
    "model_sgd_n_2 = LogisticRegression(mode=\"SGD\", max_iter=500000, normalization=True)\n",
    "model_bgd_n_1.fit(X_train, y1_train)\n",
    "y1_bgd_pre = model_bgd_n_1.predict(X_test)\n",
    "model_bgd_n_2.fit(X_train, y2_train)\n",
    "y2_bgd_pre = model_bgd_n_2.predict(X_test)\n",
    "model_sgd_n_1.fit(X_train, y1_train)\n",
    "y1_sgd_pre = model_sgd_n_1.predict(X_test)\n",
    "model_sgd_n_2.fit(X_train, y2_train)\n",
    "y2_sgd_pre = model_sgd_n_2.predict(X_test)\n",
    "\n",
    "print(\"BGD:\")\n",
    "print(\"h1n1_vaccine:\", roc_auc_score(y1_test, y1_bgd_pre))\n",
    "print(\"seasonal_vaccine:\", roc_auc_score(y2_test, y2_bgd_pre))\n",
    "print(\"SGD:\")\n",
    "print(\"h1n1_vaccine:\", roc_auc_score(y1_test, y1_sgd_pre))\n",
    "print(\"seasonal_vaccine:\", roc_auc_score(y2_test, y2_sgd_pre))\n",
    "\n",
    "# 使用正则化后发现正确率都有所下降，过拟合现象减轻"
   ]
  },
  {
   "cell_type": "code",
   "execution_count": 5,
   "metadata": {},
   "outputs": [],
   "source": [
    "test_features = pd.read_csv(\"./TestFeatures.csv\")\n",
    "id = np.array(test_features[\"respondent_id\"])\n",
    "X_features = np.array(test_features.drop(columns=[\"respondent_id\"]))\n",
    "\n",
    "y1_label = model_bgd_1.predict(X_features).reshape(1, -1)[0]\n",
    "y2_label = model_bgd_2.predict(X_features).reshape(1, -1)[0]\n",
    "\n",
    "output = pd.DataFrame({\"respondent_id\": id, \"h1n1_vaccine\": y1_label, \"seasonal_vaccine\": y2_label})\n",
    "output.to_csv(\"./submission.csv\", index=False)"
   ]
  }
 ],
 "metadata": {
  "kernelspec": {
   "display_name": "Python 3",
   "language": "python",
   "name": "python3"
  },
  "language_info": {
   "codemirror_mode": {
    "name": "ipython",
    "version": 3
   },
   "file_extension": ".py",
   "mimetype": "text/x-python",
   "name": "python",
   "nbconvert_exporter": "python",
   "pygments_lexer": "ipython3",
   "version": "3.10.11"
  },
  "orig_nbformat": 4
 },
 "nbformat": 4,
 "nbformat_minor": 2
}
