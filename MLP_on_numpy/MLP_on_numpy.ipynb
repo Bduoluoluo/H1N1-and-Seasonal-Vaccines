{
 "cells": [
  {
   "cell_type": "code",
   "execution_count": 226,
   "metadata": {},
   "outputs": [],
   "source": [
    "import numpy as np\n",
    "import pandas as pd\n",
    "from sklearn.model_selection import train_test_split\n",
    "from sklearn.metrics import roc_auc_score\n",
    "\n",
    "def sigmoid (X):\n",
    "    return 1 / (1 + np.exp(-X))\n",
    "\n",
    "def d_sigmoid (X):\n",
    "    return X * (1 - X)\n",
    "\n",
    "def relu (X):\n",
    "    return np.maximum(0, X)\n",
    "\n",
    "def d_relu (X):\n",
    "    return np.where(X > 0, 1, 0)\n",
    "\n",
    "class MLP:\n",
    "    def __init__ (self, size, learning_rate=10):\n",
    "        self.size = size\n",
    "        self.learning_rate = float(learning_rate)\n",
    "        self.dep_num = len(size)\n",
    "        self.activation_fun = [\"sigmoid\"] * self.dep_num\n",
    "        self.h = [0] * self.dep_num\n",
    "        self.w = []\n",
    "        self.b = []\n",
    "        for i in range(self.dep_num - 1):\n",
    "            self.w.append(np.random.normal(scale=0.01, size=(self.size[i], self.size[i + 1])))\n",
    "            self.b.append(np.zeros(self.size[i + 1]))\n",
    "    \n",
    "    def forward (self, X):\n",
    "        self.h = [0] * self.dep_num\n",
    "        self.h[0] = X\n",
    "        for i in range(self.dep_num - 1):\n",
    "            fun = sigmoid\n",
    "            if (self.activation_fun[i] == \"sigmoid\"):\n",
    "                fun = sigmoid\n",
    "            if (self.activation_fun[i] == \"relu\"):\n",
    "                fun = relu\n",
    "            self.h[i + 1] = fun(np.dot(self.h[i], self.w[i]) + self.b[i])\n",
    "        return self.h[self.dep_num - 1]\n",
    "    \n",
    "    def backward (self, y, y_pred):\n",
    "        d_h = [0] * self.dep_num\n",
    "        d_w = [0] * (self.dep_num - 1)\n",
    "        d_b = [0] * (self.dep_num - 1)\n",
    "        d_h[self.dep_num - 1] = -(y - y_pred)\n",
    "        for i in range(self.dep_num - 2, -1, -1):\n",
    "            fun = d_sigmoid\n",
    "            if (self.activation_fun[i] == \"sigmoid\"):\n",
    "                fun = d_sigmoid\n",
    "            if (self.activation_fun[i] == \"relu\"):\n",
    "                fun = d_relu\n",
    "            d_w[i] = np.dot(self.h[i].T, d_h[i + 1] * fun(self.h[i + 1]))\n",
    "            d_b[i] = np.sum(d_h[i + 1] * fun(self.h[i + 1]), axis=0)\n",
    "            d_h[i] = np.dot(d_h[i + 1] * fun(self.h[i + 1]), self.w[i].T)\n",
    "        for i in range(self.dep_num - 1):\n",
    "            self.w[i] -= self.learning_rate * d_w[i]\n",
    "            self.b[i] -= self.learning_rate * d_b[i]\n",
    "\n",
    "\n",
    "def cross_entropy_loss (y_pred, y):\n",
    "    return -np.mean(y * np.log(y_pred) + (1 - y) * np.log(1 - y_pred))\n"
   ]
  },
  {
   "cell_type": "code",
   "execution_count": 227,
   "metadata": {},
   "outputs": [],
   "source": [
    "train_data = pd.read_csv(\"./TrainData.csv\")\n",
    "\n",
    "X = train_data.drop(columns=[\"h1n1_vaccine\", \"seasonal_vaccine\"])\n",
    "y = train_data[[\"h1n1_vaccine\", \"seasonal_vaccine\"]]\n",
    "X, y = np.array(X, dtype=float), np.array(y, dtype=float)\n",
    "\n",
    "X_train, X_test, y_train, y_test = train_test_split(X, y, test_size=0.1)\n",
    "y1_train, y2_train = y_train[:, 0], y_train[:, 1]\n",
    "y1_test, y2_test = y_test[:, 0], y_test[:, 1]"
   ]
  },
  {
   "cell_type": "code",
   "execution_count": 228,
   "metadata": {},
   "outputs": [
    {
     "name": "stdout",
     "output_type": "stream",
     "text": [
      "Epoch 0\n",
      "h1n1_vaccine loss: 0.6931520733646798\n",
      "seasonal_vaccine loss: 0.6931462067705014\n",
      "Epoch 100\n",
      "h1n1_vaccine loss: 0.5167784048726672\n",
      "seasonal_vaccine loss: 0.6979752854392599\n",
      "Epoch 200\n",
      "h1n1_vaccine loss: 0.5167784046597855\n",
      "seasonal_vaccine loss: 0.6652514016404656\n",
      "Epoch 300\n",
      "h1n1_vaccine loss: 0.5167784045818881\n",
      "seasonal_vaccine loss: 0.6907574872429145\n",
      "Epoch 400\n",
      "h1n1_vaccine loss: 0.5167784045277353\n",
      "seasonal_vaccine loss: 0.690698880660715\n",
      "Epoch 500\n",
      "h1n1_vaccine loss: 0.5167784044490907\n",
      "seasonal_vaccine loss: 0.681484096094743\n",
      "Epoch 600\n",
      "h1n1_vaccine loss: 0.5167784043463801\n",
      "seasonal_vaccine loss: 0.7122364961702783\n",
      "Epoch 700\n",
      "h1n1_vaccine loss: 0.5167784036003973\n",
      "seasonal_vaccine loss: 0.6180768134989043\n",
      "Epoch 800\n",
      "h1n1_vaccine loss: 0.5167783990703562\n",
      "seasonal_vaccine loss: 0.6259047417939778\n",
      "Epoch 900\n",
      "h1n1_vaccine loss: 0.516778391605003\n",
      "seasonal_vaccine loss: 0.5593838174298108\n"
     ]
    }
   ],
   "source": [
    "model1_relu = MLP(size=[64, 10, 2, 1], learning_rate=0.001)\n",
    "model2_relu = MLP(size=[64, 50, 10, 1], learning_rate=0.001)\n",
    "model1_relu.activation_fun = [\"relu\", \"relu\", \"sigmoid\"]\n",
    "model2_relu.activation_fun = [\"relu\", \"relu\", \"sigmoid\"]\n",
    "\n",
    "for i in range(1000):\n",
    "    y1_pred = model1_relu.forward(X_train)\n",
    "    loss1 = cross_entropy_loss(y1_pred, y1_train.reshape(-1, 1))\n",
    "    model1_relu.backward(y1_train.reshape(-1, 1), y1_pred)\n",
    "    y2_pred = model2_relu.forward(X_train)\n",
    "    loss2 = cross_entropy_loss(y2_pred, y2_train.reshape(-1, 1))\n",
    "    model2_relu.backward(y2_train.reshape(-1, 1), y2_pred)\n",
    "    if (i % 100 == 0):\n",
    "        print(\"Epoch\", i)\n",
    "        print(\"h1n1_vaccine loss:\", loss1)\n",
    "        print(\"seasonal_vaccine loss:\", loss2)"
   ]
  },
  {
   "cell_type": "code",
   "execution_count": 229,
   "metadata": {},
   "outputs": [
    {
     "name": "stdout",
     "output_type": "stream",
     "text": [
      "relu:\n",
      "h1n1_vaccine: 0.5171419681380683\n",
      "seasonal_vaccine: 0.7777182090950866\n"
     ]
    }
   ],
   "source": [
    "print(\"relu:\")\n",
    "print(\"h1n1_vaccine:\", roc_auc_score(y1_test.reshape(-1, 1), model1_relu.forward(X_test)))\n",
    "print(\"seasonal_vaccine:\", roc_auc_score(y2_test.reshape(-1, 1), model2_relu.forward(X_test)))"
   ]
  },
  {
   "cell_type": "code",
   "execution_count": 230,
   "metadata": {},
   "outputs": [
    {
     "name": "stdout",
     "output_type": "stream",
     "text": [
      "Epoch 0\n",
      "h1n1_vaccine loss: 0.69284718437746\n",
      "seasonal_vaccine loss: 0.6944521107743058\n",
      "Epoch 100\n",
      "h1n1_vaccine loss: 0.4228218186893261\n",
      "seasonal_vaccine loss: 0.5899451449818709\n",
      "Epoch 200\n",
      "h1n1_vaccine loss: 0.4363561735817091\n",
      "seasonal_vaccine loss: 0.6562026012874369\n",
      "Epoch 300\n",
      "h1n1_vaccine loss: 0.4190691780007851\n",
      "seasonal_vaccine loss: 0.5743660190737676\n",
      "Epoch 400\n",
      "h1n1_vaccine loss: 0.42316599848995584\n",
      "seasonal_vaccine loss: 0.5543263567920169\n",
      "Epoch 500\n",
      "h1n1_vaccine loss: 0.41554577802423653\n",
      "seasonal_vaccine loss: 0.5417711164365895\n",
      "Epoch 600\n",
      "h1n1_vaccine loss: 0.40971324476602605\n",
      "seasonal_vaccine loss: 0.5328943938317894\n",
      "Epoch 700\n",
      "h1n1_vaccine loss: 0.4052689339200382\n",
      "seasonal_vaccine loss: 0.5250432751714676\n",
      "Epoch 800\n",
      "h1n1_vaccine loss: 0.40188944731069626\n",
      "seasonal_vaccine loss: 0.519349339002872\n",
      "Epoch 900\n",
      "h1n1_vaccine loss: 0.3991974336914678\n",
      "seasonal_vaccine loss: 0.5153369561404186\n"
     ]
    }
   ],
   "source": [
    "model1_sigmoid = MLP(size=[64, 10, 1], learning_rate=0.001)\n",
    "model2_sigmoid = MLP(size=[64, 10, 1], learning_rate=0.001)\n",
    "\n",
    "for i in range(1000):\n",
    "    y1_pred = model1_sigmoid.forward(X_train)\n",
    "    loss1 = cross_entropy_loss(y1_pred, y1_train.reshape(-1, 1))\n",
    "    model1_sigmoid.backward(y1_train.reshape(-1, 1), y1_pred)\n",
    "    y2_pred = model2_sigmoid.forward(X_train)\n",
    "    loss2 = cross_entropy_loss(y2_pred, y2_train.reshape(-1, 1))\n",
    "    model2_sigmoid.backward(y2_train.reshape(-1, 1), y2_pred)\n",
    "    if (i % 100 == 0):\n",
    "        print(\"Epoch\", i)\n",
    "        print(\"h1n1_vaccine loss:\", loss1)\n",
    "        print(\"seasonal_vaccine loss:\", loss2)"
   ]
  },
  {
   "cell_type": "code",
   "execution_count": 231,
   "metadata": {},
   "outputs": [
    {
     "name": "stdout",
     "output_type": "stream",
     "text": [
      "sigmoid:\n",
      "h1n1_vaccine: 0.8120809824095586\n",
      "seasonal_vaccine: 0.8252311164772984\n"
     ]
    }
   ],
   "source": [
    "print(\"sigmoid:\")\n",
    "print(\"h1n1_vaccine:\", roc_auc_score(y1_test.reshape(-1, 1), model1_sigmoid.forward(X_test)))\n",
    "print(\"seasonal_vaccine:\", roc_auc_score(y2_test.reshape(-1, 1), model2_sigmoid.forward(X_test)))"
   ]
  },
  {
   "cell_type": "code",
   "execution_count": null,
   "metadata": {},
   "outputs": [],
   "source": [
    "# 经过多次尝试发现，在使用 relu 激活函数的模型不如使用 sigmoid 激活函数的模型，大部分时候使用 relu 激活函数的模型甚至没有任何效果"
   ]
  },
  {
   "cell_type": "code",
   "execution_count": 237,
   "metadata": {},
   "outputs": [],
   "source": [
    "test_features = pd.read_csv(\"./TestFeatures.csv\")\n",
    "id = np.array(test_features[\"respondent_id\"])\n",
    "X_features = np.array(test_features.drop(columns=[\"respondent_id\"]), dtype=float)\n",
    "\n",
    "y1_label = model1_sigmoid.forward(X_features).reshape(1, -1)[0]\n",
    "y2_label = model2_sigmoid.forward(X_features).reshape(1, -1)[0]\n",
    "\n",
    "output = pd.DataFrame({\"respondent_id\": id, \"h1n1_vaccine\": y1_label, \"seasonal_vaccine\": y2_label})\n",
    "output.to_csv(\"./submission.csv\", index=False)"
   ]
  }
 ],
 "metadata": {
  "kernelspec": {
   "display_name": "Python 3",
   "language": "python",
   "name": "python3"
  },
  "language_info": {
   "codemirror_mode": {
    "name": "ipython",
    "version": 3
   },
   "file_extension": ".py",
   "mimetype": "text/x-python",
   "name": "python",
   "nbconvert_exporter": "python",
   "pygments_lexer": "ipython3",
   "version": "3.10.11"
  },
  "orig_nbformat": 4
 },
 "nbformat": 4,
 "nbformat_minor": 2
}
