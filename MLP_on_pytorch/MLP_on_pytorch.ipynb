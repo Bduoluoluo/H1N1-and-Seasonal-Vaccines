{
 "cells": [
  {
   "cell_type": "code",
   "execution_count": 150,
   "metadata": {},
   "outputs": [],
   "source": [
    "import torch.nn as nn\n",
    "import torch\n",
    "import torch.optim as optim\n",
    "import numpy as np\n",
    "import pandas as pd\n",
    "from sklearn.model_selection import train_test_split\n",
    "from sklearn.metrics import roc_auc_score\n",
    "\n",
    "class MLP (nn.Module):\n",
    "    def __init__ (self, input_size, output_size):\n",
    "        super(MLP, self).__init__()\n",
    "        self.sigmoid = nn.Sigmoid()\n",
    "        self.linear1 = nn.Linear(input_size, 10)\n",
    "        self.linear2 = nn.Linear(10, output_size)\n",
    "    \n",
    "    def forward(self, x):\n",
    "        x = self.linear1(x)\n",
    "        x = self.sigmoid(x)\n",
    "        x = self.linear2(x)\n",
    "        x = self.sigmoid(x)\n",
    "        return x"
   ]
  },
  {
   "cell_type": "code",
   "execution_count": 151,
   "metadata": {},
   "outputs": [
    {
     "name": "stderr",
     "output_type": "stream",
     "text": [
      "C:\\Users\\Lenovo\\AppData\\Local\\Temp\\ipykernel_49080\\2333130287.py:6: UserWarning: To copy construct from a tensor, it is recommended to use sourceTensor.clone().detach() or sourceTensor.clone().detach().requires_grad_(True), rather than torch.tensor(sourceTensor).\n",
      "  X, y = torch.tensor(X, dtype=torch.float32), torch.tensor(y, dtype=torch.float32)\n"
     ]
    }
   ],
   "source": [
    "train_data = pd.read_csv(\"./TrainData.csv\")\n",
    "\n",
    "X = train_data.drop(columns=[\"h1n1_vaccine\", \"seasonal_vaccine\"])\n",
    "y = train_data[[\"h1n1_vaccine\", \"seasonal_vaccine\"]]\n",
    "X, y = torch.from_numpy(np.array(X, dtype=float)), torch.from_numpy(np.array(y, dtype=float))\n",
    "X, y = torch.tensor(X, dtype=torch.float32), torch.tensor(y, dtype=torch.float32)\n",
    "\n",
    "X_train, X_test, y_train, y_test = train_test_split(X, y, test_size=0.1)\n",
    "y1_train, y2_train = y_train[:, 0], y_train[:, 1]\n",
    "y1_test, y2_test = y_test[:, 0], y_test[:, 1]"
   ]
  },
  {
   "cell_type": "code",
   "execution_count": 152,
   "metadata": {},
   "outputs": [
    {
     "name": "stdout",
     "output_type": "stream",
     "text": [
      "Epoch 0\n",
      "h1n1_vaccine loss: 0.23577381670475006\n",
      "seasonal_vaccine loss: 0.2524401843547821\n",
      "Epoch 1000\n",
      "h1n1_vaccine loss: 0.15642902255058289\n",
      "seasonal_vaccine loss: 0.1910221427679062\n",
      "Epoch 2000\n",
      "h1n1_vaccine loss: 0.1370345950126648\n",
      "seasonal_vaccine loss: 0.16728529334068298\n",
      "Epoch 3000\n",
      "h1n1_vaccine loss: 0.12690071761608124\n",
      "seasonal_vaccine loss: 0.16214801371097565\n",
      "Epoch 4000\n",
      "h1n1_vaccine loss: 0.1230894923210144\n",
      "seasonal_vaccine loss: 0.16009506583213806\n",
      "Epoch 5000\n",
      "h1n1_vaccine loss: 0.12114770710468292\n",
      "seasonal_vaccine loss: 0.15909932553768158\n",
      "Epoch 6000\n",
      "h1n1_vaccine loss: 0.1200169250369072\n",
      "seasonal_vaccine loss: 0.1585627794265747\n",
      "Epoch 7000\n",
      "h1n1_vaccine loss: 0.11931537836790085\n",
      "seasonal_vaccine loss: 0.15823811292648315\n",
      "Epoch 8000\n",
      "h1n1_vaccine loss: 0.118858702480793\n",
      "seasonal_vaccine loss: 0.15801191329956055\n",
      "Epoch 9000\n",
      "h1n1_vaccine loss: 0.11854315549135208\n",
      "seasonal_vaccine loss: 0.15783409774303436\n"
     ]
    }
   ],
   "source": [
    "model_1 = MLP(64, 1)\n",
    "model_2 = MLP(64, 1)\n",
    "\n",
    "loss_func_1 = nn.MSELoss()\n",
    "loss_func_2 = nn.MSELoss()\n",
    "optimizer_1 = optim.SGD(model_1.parameters(), lr=0.1)\n",
    "optimizer_2 = optim.SGD(model_2.parameters(), lr=0.1)\n",
    "\n",
    "for i in range(10000):\n",
    "    y1_pred = model_1(X_train)\n",
    "    loss1 = loss_func_1(y1_pred, y1_train.reshape(-1, 1))\n",
    "    optimizer_1.zero_grad()\n",
    "    loss1.backward()\n",
    "    optimizer_1.step()\n",
    "    y2_pred = model_2(X_train)\n",
    "    loss2 = loss_func_2(y2_pred, y2_train.reshape(-1, 1))\n",
    "    optimizer_2.zero_grad()\n",
    "    loss2.backward(retain_graph=True)\n",
    "    optimizer_2.step()\n",
    "    if i % 1000 == 0:\n",
    "        print(\"Epoch\", i)\n",
    "        print(\"h1n1_vaccine loss:\", loss1.item())\n",
    "        print(\"seasonal_vaccine loss:\", loss2.item())\n",
    "\n"
   ]
  },
  {
   "cell_type": "code",
   "execution_count": 153,
   "metadata": {},
   "outputs": [
    {
     "name": "stdout",
     "output_type": "stream",
     "text": [
      "h1n1_vaccine: 0.809537986823451\n",
      "seasonal_vaccine: 0.8373480678578485\n"
     ]
    }
   ],
   "source": [
    "print(\"h1n1_vaccine:\", roc_auc_score(y1_test.reshape(-1, 1).detach().numpy(), model_1(X_test).detach().numpy()))\n",
    "print(\"seasonal_vaccine:\", roc_auc_score(y2_test.reshape(-1, 1).detach().numpy(), model_2(X_test).detach().numpy()))"
   ]
  },
  {
   "cell_type": "code",
   "execution_count": 158,
   "metadata": {},
   "outputs": [],
   "source": [
    "test_features = pd.read_csv(\"./TestFeatures.csv\")\n",
    "id = np.array(test_features[\"respondent_id\"])\n",
    "X_features = np.array(test_features.drop(columns=[\"respondent_id\"]), dtype=float)\n",
    "X_features = torch.tensor(X_features, dtype=torch.float32)\n",
    "\n",
    "y1_label = model_1(X_features).reshape(1, -1).detach().numpy()[0]\n",
    "y2_label = model_2(X_features).reshape(1, -1).detach().numpy()[0]\n",
    "\n",
    "output = pd.DataFrame({\"respondent_id\": id, \"h1n1_vaccine\": y1_label, \"seasonal_vaccine\": y2_label})\n",
    "output.to_csv(\"./submission.csv\", index=False)"
   ]
  }
 ],
 "metadata": {
  "kernelspec": {
   "display_name": "Python 3",
   "language": "python",
   "name": "python3"
  },
  "language_info": {
   "codemirror_mode": {
    "name": "ipython",
    "version": 3
   },
   "file_extension": ".py",
   "mimetype": "text/x-python",
   "name": "python",
   "nbconvert_exporter": "python",
   "pygments_lexer": "ipython3",
   "version": "3.10.11"
  },
  "orig_nbformat": 4
 },
 "nbformat": 4,
 "nbformat_minor": 2
}
